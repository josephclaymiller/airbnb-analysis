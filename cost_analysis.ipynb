{
 "cells": [
  {
   "cell_type": "code",
   "execution_count": 20,
   "metadata": {
    "collapsed": true
   },
   "outputs": [],
   "source": [
    "import numpy as np\n",
    "import pandas as pd\n",
    "import datetime"
   ]
  },
  {
   "cell_type": "code",
   "execution_count": 53,
   "metadata": {
    "collapsed": true
   },
   "outputs": [
    {
     "name": "stdout",
     "output_type": "stream",
     "text": [
      "         Date                   Type Confirmation Code  Start Date  Nights  \\\n",
      "0  06/22/2018                 Payout               NaN         NaN     NaN   \n",
      "1  06/22/2018            Reservation        HMW9JNKRMX  06/21/2018     2.0   \n",
      "2  06/22/2018  Co-hosting Adjustment        HMW9JNKRMX  06/21/2018     2.0   \n",
      "3  06/22/2018            Reservation        HMTEKNT4KJ  06/21/2018     5.0   \n",
      "4  06/22/2018  Co-hosting Adjustment        HMTEKNT4KJ  06/21/2018     5.0   \n",
      "\n",
      "               Guest                                            Listing  \\\n",
      "0                NaN                                                NaN   \n",
      "1     Francisco Ríos  Friends - Private Bedroom for 3 in Cozy Community   \n",
      "2     Francisco Ríos  Friends - Private Bedroom for 3 in Cozy Community   \n",
      "3  Carolyn Guandique  Earth Bunk, Peacock Room: Cozy Bed in Shared Room   \n",
      "4  Carolyn Guandique  Earth Bunk, Peacock Room: Cozy Bed in Shared Room   \n",
      "\n",
      "                 Details  Reference Currency  Amount  Paid Out  Host Fee  \\\n",
      "0  Transfer to *****6485        NaN      USD     NaN   1326.04       NaN   \n",
      "1                    NaN        NaN      USD  405.46       NaN     12.54   \n",
      "2                    NaN        NaN      USD  -53.32       NaN       NaN   \n",
      "3                    NaN        NaN      USD  424.86       NaN     13.14   \n",
      "4                    NaN        NaN      USD  -47.38       NaN       NaN   \n",
      "\n",
      "   Cleaning Fee  Linens fee  Community fee  \n",
      "0           NaN         NaN            NaN  \n",
      "1          35.0        15.0           40.0  \n",
      "2           NaN         NaN            NaN  \n",
      "3          15.0        15.0           20.0  \n",
      "4           NaN         NaN            NaN  \n",
      "Date                  object\n",
      "Type                  object\n",
      "Confirmation Code     object\n",
      "Start Date            object\n",
      "Nights               float64\n",
      "Guest                 object\n",
      "Listing               object\n",
      "Details               object\n",
      "Reference            float64\n",
      "Currency              object\n",
      "Amount               float64\n",
      "Paid Out             float64\n",
      "Host Fee             float64\n",
      "Cleaning Fee         float64\n",
      "Linens fee           float64\n",
      "Community fee        float64\n",
      "dtype: object\n",
      "['Payout' 'Reservation' 'Co-hosting Adjustment' 'Adjustment'\n",
      " 'Resolution Adjustment' 'Resolution Payout']\n"
     ]
    }
   ],
   "source": [
    "##read in data\n",
    "data=pd.read_csv('airbnb_2018.csv')\n",
    "print(data.head())\n",
    "print(data.dtypes)\n",
    "print(data['Type'].unique())"
   ]
  },
  {
   "cell_type": "code",
   "execution_count": 56,
   "metadata": {
    "collapsed": false,
    "scrolled": false
   },
   "outputs": [
    {
     "name": "stdout",
     "output_type": "stream",
     "text": [
      "         Date                   Type Confirmation Code  Start Date  Nights  \\\n",
      "0  06/22/2018                 Payout               NaN         NaN     NaN   \n",
      "1  06/22/2018            Reservation        HMW9JNKRMX  06/21/2018     2.0   \n",
      "2  06/22/2018  Co-hosting Adjustment        HMW9JNKRMX  06/21/2018     2.0   \n",
      "3  06/22/2018            Reservation        HMTEKNT4KJ  06/21/2018     5.0   \n",
      "4  06/22/2018  Co-hosting Adjustment        HMTEKNT4KJ  06/21/2018     5.0   \n",
      "\n",
      "               Guest                                            Listing  \\\n",
      "0                NaN                                                NaN   \n",
      "1     Francisco Ríos  Friends - Private Bedroom for 3 in Cozy Community   \n",
      "2     Francisco Ríos  Friends - Private Bedroom for 3 in Cozy Community   \n",
      "3  Carolyn Guandique  Earth Bunk, Peacock Room: Cozy Bed in Shared Room   \n",
      "4  Carolyn Guandique  Earth Bunk, Peacock Room: Cozy Bed in Shared Room   \n",
      "\n",
      "                 Details  Reference Currency  Amount  Paid Out  Host Fee  \\\n",
      "0  Transfer to *****6485        NaN      USD     NaN   1326.04       NaN   \n",
      "1                    NaN        NaN      USD  405.46       NaN     12.54   \n",
      "2                    NaN        NaN      USD  -53.32       NaN       NaN   \n",
      "3                    NaN        NaN      USD  424.86       NaN     13.14   \n",
      "4                    NaN        NaN      USD  -47.38       NaN       NaN   \n",
      "\n",
      "   Cleaning Fee  Linens fee  Community fee  Month  \n",
      "0           NaN         NaN            NaN      6  \n",
      "1          35.0        15.0           40.0      6  \n",
      "2           NaN         NaN            NaN      6  \n",
      "3          15.0        15.0           20.0      6  \n",
      "4           NaN         NaN            NaN      6  \n"
     ]
    }
   ],
   "source": [
    "def toMonth(dateCol):\n",
    "    return datetime.datetime.strptime(dateCol,'%m/%d/%Y').month\n",
    "data['Month']=data['Date'].apply(toMonth)\n",
    "print(data.head())"
   ]
  },
  {
   "cell_type": "code",
   "execution_count": 49,
   "metadata": {
    "collapsed": false
   },
   "outputs": [
    {
     "name": "stdout",
     "output_type": "stream",
     "text": [
      "Month\n",
      "1    16787.60\n",
      "2    22148.36\n",
      "3    30775.08\n",
      "4    28832.03\n",
      "5    32383.36\n",
      "6    26631.56\n",
      "Name: Paid Out, dtype: float64\n"
     ]
    }
   ],
   "source": [
    "## Payouts by month\n",
    "\n",
    "payouts=data[data['Type']=='Payout']\n",
    "\n",
    "print(payouts.groupby(['Month'])['Paid Out'].sum())"
   ]
  },
  {
   "cell_type": "code",
   "execution_count": 51,
   "metadata": {
    "collapsed": false
   },
   "outputs": [
    {
     "name": "stdout",
     "output_type": "stream",
     "text": [
      "Month  Listing                                           \n",
      "1      Air Bunk, Peacock Room: Cozy Bed in Shared Room        197.88\n",
      "       Earth Bunk, Peacock Room: Cozy Bed in Shared Room      948.66\n",
      "       Fire Bunk, Peacock Room: Cozy Bed in Shared Room       230.86\n",
      "       Friends - Private Bedroom for 3 in Cozy Community     1874.04\n",
      "       Gigi's Room - a Private Suite in a Warm Community     2172.12\n",
      "       Golden Gate - Private Bedroom in Warm Community       1199.89\n",
      "       Poster Room: a cozy bunked space in warm community    2037.00\n",
      "       Private Suite w/ Bath, Artsy Hotel/Co-op: Sunshine    2254.65\n",
      "       Redwood Forest: Private Room+Bath in Warm Co-op       1269.73\n",
      "       Rose Garden - a Magical Bed+Bath in Warm Community    2231.97\n",
      "       Summer of Love - Private Room in a Warm Community     1196.92\n",
      "       Tea Garden - a Private Room in a Warm Community       1951.17\n",
      "       Water Bunk, Peacock Room: Cozy Bed in Shared Room     1118.41\n",
      "2      Air Bunk, Peacock Room: Cozy Bed in Shared Room        514.10\n",
      "       Earth Bunk, Peacock Room: Cozy Bed in Shared Room     1141.53\n",
      "       Fire Bunk, Peacock Room: Cozy Bed in Shared Room       683.69\n",
      "       Friends - Private Bedroom for 3 in Cozy Community      827.62\n",
      "       Gigi's Room - a Private Suite in a Warm Community     1587.61\n",
      "       Golden Gate - Private Bedroom in Warm Community       2134.39\n",
      "       Peacock Suite: Cozy bunked room in warm community      632.44\n",
      "       Poster Room: a cozy bunked space in warm community    2250.92\n",
      "       Private Suite w/ Bath, Artsy Hotel/Co-op: Sunshine    1920.60\n",
      "       Rainbow Room - Private Bedroom in a Warm Community    1302.71\n",
      "       Redwood Forest: Private Room+Bath in Warm Co-op       2931.34\n",
      "       Rose Garden - a Magical Bed+Bath in Warm Community    2405.02\n",
      "       Shared Hostel Room in Warm Co-op: Friends Bunks        468.51\n",
      "       Shared Hostel Room in Warm Community - Friends         458.81\n",
      "       Summer of Love - Private Room in a Warm Community     1850.10\n",
      "       Tea Garden - a Private Room in a Warm Community       1748.15\n",
      "       Water Bunk, Peacock Room: Cozy Bed in Shared Room      644.08\n",
      "                                                              ...   \n",
      "5      Gigi's Room - a Private Suite in a Warm Community     3256.46\n",
      "       Golden Gate - Private Bedroom in Warm Community       3915.79\n",
      "       Poster Room: a cozy bunked space in warm community    1813.90\n",
      "       Private Suite w/ Bath, Artsy Hotel/Co-op: Sunshine    2709.21\n",
      "       Redwood Forest: Private Room+Bath in Warm Co-op       3456.15\n",
      "       Rose Garden - a Magical Bed+Bath in Warm Community    2762.07\n",
      "       Shared Hostel Room in Warm Co-op: Friends Bunks       1586.92\n",
      "       Shared Hostel Room in Warm Community - Friends        1036.93\n",
      "       Summer of Love - Private Room in a Warm Community     3126.15\n",
      "       Tea Garden - a Private Room in a Warm Community       3159.00\n",
      "       Water Bunk, Peacock Room: Cozy Bed in Shared Room     1173.70\n",
      "6      Air Bunk, Peacock Room: Cozy Bed in Shared Room       1102.93\n",
      "       Bunk #1, Poster Room: Comfy Bed in Shared Room         815.58\n",
      "       Bunk #2, Poster Room: Comfy Bed in Shared Room         873.50\n",
      "       Bunk #3, Poster Room: Comfy Bed in Shared Room         963.73\n",
      "       Bunk #4, Poster Room: Comfy Bed in Shared Room         927.32\n",
      "       Earth Bunk, Peacock Room: Cozy Bed in Shared Room     1291.63\n",
      "       Fire Bunk, Peacock Room: Cozy Bed in Shared Room      1231.30\n",
      "       Friends - Private Bedroom for 3 in Cozy Community     2136.23\n",
      "       Gigi's Room - a Private Suite in a Warm Community     2757.71\n",
      "       Golden Gate - Private Bedroom in Warm Community       2133.03\n",
      "       Private Room in Historic B&B - Skylight Room           730.41\n",
      "       Private Suite w/ Bath, Artsy Hotel/Co-op: Sunshine    3730.93\n",
      "       Redwood Forest: Private Room+Bath in Warm Co-op       2368.43\n",
      "       Rose Garden - a Magical Bed+Bath in Warm Community    2767.99\n",
      "       Shared Hostel Room in Warm Co-op: Friends Bunks        804.13\n",
      "       Shared Hostel Room in Warm Community - Friends         325.92\n",
      "       Summer of Love - Private Room in a Warm Community     2004.85\n",
      "       Tea Garden - a Private Room in a Warm Community       2585.05\n",
      "       Water Bunk, Peacock Room: Cozy Bed in Shared Room     1197.25\n",
      "Name: Amount, dtype: float64\n"
     ]
    }
   ],
   "source": [
    "#Gross hotel revenue by room/listing\n",
    "payouts=data[data['Type']=='Reservation']\n",
    "print(payouts.groupby(['Month','Listing'])['Amount'].sum()) "
   ]
  },
  {
   "cell_type": "code",
   "execution_count": 52,
   "metadata": {
    "collapsed": false
   },
   "outputs": [
    {
     "name": "stdout",
     "output_type": "stream",
     "text": [
      "Month  Listing                                           \n",
      "1      Air Bunk, Peacock Room: Cozy Bed in Shared Room       -13.00\n",
      "       Earth Bunk, Peacock Room: Cozy Bed in Shared Room     -58.00\n",
      "       Fire Bunk, Peacock Room: Cozy Bed in Shared Room      -16.00\n",
      "       Friends - Private Bedroom for 3 in Cozy Community    -134.00\n",
      "       Gigi's Room - a Private Suite in a Warm Community    -156.00\n",
      "       Golden Gate - Private Bedroom in Warm Community       -74.00\n",
      "       Poster Room: a cozy bunked space in warm community   -150.00\n",
      "       Private Suite w/ Bath, Artsy Hotel/Co-op: Sunshine   -151.00\n",
      "       Redwood Forest: Private Room+Bath in Warm Co-op       -81.00\n",
      "       Rose Garden - a Magical Bed+Bath in Warm Community   -154.00\n",
      "       Summer of Love - Private Room in a Warm Community     -81.00\n",
      "       Tea Garden - a Private Room in a Warm Community      -128.00\n",
      "       Water Bunk, Peacock Room: Cozy Bed in Shared Room     -60.00\n",
      "2      Air Bunk, Peacock Room: Cozy Bed in Shared Room       -33.00\n",
      "       Earth Bunk, Peacock Room: Cozy Bed in Shared Room     -84.00\n",
      "       Fire Bunk, Peacock Room: Cozy Bed in Shared Room      -47.97\n",
      "       Friends - Private Bedroom for 3 in Cozy Community     -61.00\n",
      "       Gigi's Room - a Private Suite in a Warm Community    -115.00\n",
      "       Golden Gate - Private Bedroom in Warm Community      -144.94\n",
      "       Peacock Suite: Cozy bunked room in warm community     -43.00\n",
      "       Poster Room: a cozy bunked space in warm community   -176.00\n",
      "       Private Suite w/ Bath, Artsy Hotel/Co-op: Sunshine   -126.00\n",
      "       Rainbow Room - Private Bedroom in a Warm Community   -506.00\n",
      "       Redwood Forest: Private Room+Bath in Warm Co-op      -229.23\n",
      "       Rose Garden - a Magical Bed+Bath in Warm Community   -176.00\n",
      "       Shared Hostel Room in Warm Co-op: Friends Bunks       -28.00\n",
      "       Shared Hostel Room in Warm Community - Friends        -28.00\n",
      "       Summer of Love - Private Room in a Warm Community    -119.98\n",
      "       Tea Garden - a Private Room in a Warm Community      -124.00\n",
      "       Water Bunk, Peacock Room: Cozy Bed in Shared Room     -40.00\n",
      "                                                              ...  \n",
      "5      Gigi's Room - a Private Suite in a Warm Community    -328.37\n",
      "       Golden Gate - Private Bedroom in Warm Community      -388.51\n",
      "       Poster Room: a cozy bunked space in warm community   -260.83\n",
      "       Private Suite w/ Bath, Artsy Hotel/Co-op: Sunshine   -221.77\n",
      "       Redwood Forest: Private Room+Bath in Warm Co-op      -383.54\n",
      "       Rose Garden - a Magical Bed+Bath in Warm Community   -251.09\n",
      "       Shared Hostel Room in Warm Co-op: Friends Bunks      -144.84\n",
      "       Shared Hostel Room in Warm Community - Friends        -99.23\n",
      "       Summer of Love - Private Room in a Warm Community    -310.88\n",
      "       Tea Garden - a Private Room in a Warm Community      -312.47\n",
      "       Water Bunk, Peacock Room: Cozy Bed in Shared Room    -107.84\n",
      "6      Air Bunk, Peacock Room: Cozy Bed in Shared Room      -119.16\n",
      "       Bunk #1, Poster Room: Comfy Bed in Shared Room        -79.87\n",
      "       Bunk #2, Poster Room: Comfy Bed in Shared Room        -97.62\n",
      "       Bunk #3, Poster Room: Comfy Bed in Shared Room        -99.45\n",
      "       Bunk #4, Poster Room: Comfy Bed in Shared Room        -89.68\n",
      "       Earth Bunk, Peacock Room: Cozy Bed in Shared Room    -134.67\n",
      "       Fire Bunk, Peacock Room: Cozy Bed in Shared Room     -133.36\n",
      "       Friends - Private Bedroom for 3 in Cozy Community    -301.69\n",
      "       Gigi's Room - a Private Suite in a Warm Community    -365.95\n",
      "       Golden Gate - Private Bedroom in Warm Community      -296.70\n",
      "       Private Room in Historic B&B - Skylight Room         -502.81\n",
      "       Private Suite w/ Bath, Artsy Hotel/Co-op: Sunshine   -476.20\n",
      "       Redwood Forest: Private Room+Bath in Warm Co-op      -317.02\n",
      "       Rose Garden - a Magical Bed+Bath in Warm Community   -364.37\n",
      "       Shared Hostel Room in Warm Co-op: Friends Bunks       -87.88\n",
      "       Shared Hostel Room in Warm Community - Friends        -32.72\n",
      "       Summer of Love - Private Room in a Warm Community    -271.69\n",
      "       Tea Garden - a Private Room in a Warm Community      -345.75\n",
      "       Water Bunk, Peacock Room: Cozy Bed in Shared Room    -125.07\n",
      "Name: Amount, dtype: float64\n"
     ]
    }
   ],
   "source": [
    "#Gross co-hosting adjustments by room/listing\n",
    "payouts=data[data['Type']=='Co-hosting Adjustment']\n",
    "print(payouts.groupby(['Month','Listing'])['Amount'].sum()) "
   ]
  },
  {
   "cell_type": "code",
   "execution_count": 58,
   "metadata": {
    "collapsed": false
   },
   "outputs": [
    {
     "name": "stdout",
     "output_type": "stream",
     "text": [
      "Month  Listing                                          \n",
      "2      Gigi's Room - a Private Suite in a Warm Community    -88.14\n",
      "4      Gigi's Room - a Private Suite in a Warm Community    -42.87\n",
      "5      Earth Bunk, Peacock Room: Cozy Bed in Shared Room   -639.76\n",
      "       Shared Hostel Room in Warm Co-op: Friends Bunks     -131.45\n",
      "6      Bunk #3, Poster Room: Comfy Bed in Shared Room       -59.75\n",
      "Name: Amount, dtype: float64\n"
     ]
    }
   ],
   "source": [
    "#Gross adjustment by room/listing\n",
    "adjustments=data[data['Type']=='Adjustment']\n",
    "print(adjustments.groupby(['Month','Listing'])['Amount'].sum()) "
   ]
  }
 ],
 "metadata": {
  "kernelspec": {
   "display_name": "Python 2",
   "language": "python",
   "name": "python2"
  },
  "language_info": {
   "codemirror_mode": {
    "name": "ipython",
    "version": 2
   },
   "file_extension": ".py",
   "mimetype": "text/x-python",
   "name": "python",
   "nbconvert_exporter": "python",
   "pygments_lexer": "ipython2",
   "version": "2.7.11"
  }
 },
 "nbformat": 4,
 "nbformat_minor": 2
}
